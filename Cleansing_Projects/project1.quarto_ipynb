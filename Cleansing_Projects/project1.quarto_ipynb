{
  "cells": [
    {
      "cell_type": "markdown",
      "metadata": {},
      "source": [
        "---\n",
        "title: \"Client Report - [Insert Project Title]\"\n",
        "subtitle: \"Course DS 250\"\n",
        "author: \"[Tanner Hamblin]\"\n",
        "format:\n",
        "  html:\n",
        "    self-contained: true\n",
        "    page-layout: full\n",
        "    title-block-banner: true\n",
        "    toc: true\n",
        "    toc-depth: 3\n",
        "    toc-location: body\n",
        "    number-sections: false\n",
        "    html-math-method: katex\n",
        "    code-fold: true\n",
        "    code-summary: \"Show the code\"\n",
        "    code-overflow: wrap\n",
        "    code-copy: hover\n",
        "    code-tools:\n",
        "        source: false\n",
        "        toggle: true\n",
        "        caption: See code\n",
        "execute: \n",
        "  warning: false\n",
        "    \n",
        "---\n"
      ],
      "id": "07599056"
    },
    {
      "cell_type": "code",
      "metadata": {},
      "source": [
        "import pandas as pd\n",
        "import numpy as np\n",
        "from lets_plot import *\n",
        "\n",
        "LetsPlot.setup_html(isolated_frame=True)"
      ],
      "id": "c5ce64ba",
      "execution_count": null,
      "outputs": []
    },
    {
      "cell_type": "markdown",
      "metadata": {},
      "source": [
        "## Project Notes\n",
        "\n",
        "__For Project 1 the answer to each question should include a chart **and** a written response. The years labels on your charts should not include a comma. At least **two** of your charts must include reference marks.__  "
      ],
      "id": "87d446fa"
    },
    {
      "cell_type": "code",
      "metadata": {},
      "source": [
        "# Learn morea about Code Cells: https://quarto.org/docs/reference/cells/cells-jupyter.html\n",
        "\n",
        "# Include and execute your code here\n",
        "df = pd.read_csv(\"https://raw.githubusercontent.com/byuidatascience/data4names/master/data-raw/names_year/names_year.csv\")"
      ],
      "id": "8eb9466d",
      "execution_count": null,
      "outputs": []
    },
    {
      "cell_type": "markdown",
      "metadata": {},
      "source": [
        "## QUESTION|TASK 1\n",
        "\n",
        "__How does your name at your birth year compare to its use historically?__\n",
        "\n",
        "_type your results and analysis here_"
      ],
      "id": "bac22731"
    },
    {
      "cell_type": "code",
      "metadata": {},
      "source": [
        "df.head()\n",
        "df_Tanner = df.query(\"name == 'Tanner'\")\n",
        "df_Tanner.head()\n",
        "print(df_Tanner.dtypes)"
      ],
      "id": "3c366df1",
      "execution_count": null,
      "outputs": []
    },
    {
      "cell_type": "code",
      "metadata": {},
      "source": [
        "(\n",
        "  ggplot(df_Tanner, aes(x = 'year', y = 'Total')) + \n",
        "geom_line() +\n",
        "labs(\n",
        "  x = \"Year\",\n",
        "  title = \"Tanner is becoming less popular\"\n",
        ") +\n",
        "geom_vline(xintercept = \"2002\", color = \"red\") +\n",
        "  theme_bw() +\n",
        "  geom_text(aes(x=[2001], y=[15], label=[\"Year I was born\"]), size=8, color='red',hjust = 1)\n",
        "\n",
        "\n",
        ")\n",
        "\n",
        "\n",
        "\n",
        "# print(\"Hello\")\n"
      ],
      "id": "0e15ebe9",
      "execution_count": null,
      "outputs": []
    },
    {
      "cell_type": "markdown",
      "metadata": {},
      "source": [
        "## QUESTION|TASK 2\n",
        "\n",
        "__If you talked to someone named Brittany on the phone, what is your guess of his or her age? What ages would you not guess?__\n",
        "\n",
        "_type your results and analysis here_"
      ],
      "id": "b26f115c"
    },
    {
      "cell_type": "code",
      "metadata": {},
      "source": [
        "df_Brittany = df.query(\"name == 'Brittany'\") \n",
        "df_Brittany.head()\n"
      ],
      "id": "f51ee336",
      "execution_count": null,
      "outputs": []
    },
    {
      "cell_type": "code",
      "metadata": {},
      "source": [
        "(ggplot(df_Brittany, aes(x = \"year\", y = \"Total\")) +\n",
        "  geom_line() +\n",
        "  geom_vline(xintercept=1990, linetype=2, color='red', alpha=0.5) +\n",
        "  labs(title = \"Most Brittanys born in 1990\" , x = \"Year\"\n",
        "  \n",
        "  )\n",
        "  \n",
        "  \n",
        "  )\n"
      ],
      "id": "96fcca57",
      "execution_count": null,
      "outputs": []
    },
    {
      "cell_type": "markdown",
      "metadata": {},
      "source": [
        "## QUESTION|TASK 3\n",
        "\n",
        "__Mary, Martha, Peter, and Paul are all Christian names. From 1920 - 2000, compare the name usage of each of the four names in a single chart. What trends do you notice?__\n",
        "\n",
        "_type your results and analysis here_"
      ],
      "id": "f75660a0"
    },
    {
      "cell_type": "code",
      "metadata": {},
      "source": [
        "# names =\n",
        "df_bible = df.query(\"name in ['Mary', 'Martha', 'Peter', 'Paul']\")"
      ],
      "id": "d8ddde6b",
      "execution_count": null,
      "outputs": []
    },
    {
      "cell_type": "code",
      "metadata": {},
      "source": [
        "(ggplot(df_bible, aes( x = \"year\", y = \"Total\", color = \"name\")) +\n",
        "  # geom_jitter() +\n",
        "  geom_line() +\n",
        "  scale_color_manual(values=[\"red\",\"blue\",\"green\",\"yellow\"]) +\n",
        "  labs(title = \"Biblical names are becoming less popular\") +\n",
        "  theme_bw()\n",
        "\n",
        ")"
      ],
      "id": "6e1b114e",
      "execution_count": null,
      "outputs": []
    },
    {
      "cell_type": "markdown",
      "metadata": {},
      "source": [
        "## QUESTION|TASK 4\n",
        "\n",
        "__Think of a unique name from a famous movie. Plot the usage of that name and see how changes line up with the movie release. Does it look like the movie had an effect on usage?__  \n",
        "\n",
        "_type your results and analysis here_"
      ],
      "id": "f49302a2"
    },
    {
      "cell_type": "code",
      "metadata": {},
      "source": [
        "df_Anakin = df.query(\"name == 'Anakin'\")\n",
        "df_Anakin.head()"
      ],
      "id": "42e17f11",
      "execution_count": null,
      "outputs": []
    },
    {
      "cell_type": "code",
      "metadata": {},
      "source": [
        "(ggplot(df_Anakin, aes(x = \"year\", y = \"Total\")) +\n",
        "geom_line() +\n",
        "labs(title = \"Anakin is getting more popular\", x = \"Years\") +\n",
        "geom_vline(xintercept = \"1999\", color = \"darkgreen\") +\n",
        "geom_vline(xintercept = \"2002\", color = \"blue\") +\n",
        "geom_vline(xintercept = \"2005\", color = \"red\") +\n",
        "geom_text(aes(x=[1999], y=[65], label=[\"Episode I\"]), size=8, color='darkgreen',hjust = 0) +\n",
        "geom_text(aes(x=[2002], y=[25], label=[\"Episode II\"]), size=8, color='blue',hjust = 0) +\n",
        "geom_text(aes(x=[2005], y=[100], label=[\"Episode III\"]), size=8, color='red',hjust = 0)\n",
        "\n",
        ")"
      ],
      "id": "e405e988",
      "execution_count": null,
      "outputs": []
    },
    {
      "cell_type": "markdown",
      "metadata": {},
      "source": [
        "---\n",
        "\n",
        "## STRETCH QUESTION|TASK 1\n",
        "<!-- \n",
        "__Reproduce the chart Elliot using the data from the `names_year.csv` file.__ \n",
        "\n",
        "_type your results and analysis here_"
      ],
      "id": "336bb400"
    },
    {
      "cell_type": "code",
      "metadata": {},
      "source": [
        "# Include and execute your code here\n"
      ],
      "id": "c65e9e6d",
      "execution_count": null,
      "outputs": []
    },
    {
      "cell_type": "markdown",
      "metadata": {},
      "source": [
        "--- -->"
      ],
      "id": "1c57955c"
    }
  ],
  "metadata": {
    "kernelspec": {
      "name": "python3",
      "language": "python",
      "display_name": "Python 3 (ipykernel)",
      "path": "C:\\Users\\tanne\\AppData\\Roaming\\Python\\share\\jupyter\\kernels\\python3"
    }
  },
  "nbformat": 4,
  "nbformat_minor": 5
}